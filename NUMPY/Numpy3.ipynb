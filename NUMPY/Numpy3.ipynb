{
 "cells": [
  {
   "cell_type": "markdown",
   "metadata": {},
   "source": [
    "EJERCICIO 1\n",
    "Cread un array de tres dimensiones de 2 matrices, 3 filas y 5 columnas cuyos valores solo tengan 1 decimales. \n",
    "Sobre el array creado anteriormente, extraed: "
   ]
  },
  {
   "cell_type": "code",
   "execution_count": 2,
   "metadata": {},
   "outputs": [],
   "source": [
    "import numpy as np"
   ]
  },
  {
   "cell_type": "code",
   "execution_count": 3,
   "metadata": {},
   "outputs": [
    {
     "data": {
      "text/plain": [
       "array([[[0.22199317, 0.87073231, 0.20671916, 0.91861091, 0.48841119],\n",
       "        [0.61174386, 0.76590786, 0.51841799, 0.2968005 , 0.18772123],\n",
       "        [0.08074127, 0.7384403 , 0.44130922, 0.15830987, 0.87993703]],\n",
       "\n",
       "       [[0.27408646, 0.41423502, 0.29607993, 0.62878791, 0.57983781],\n",
       "        [0.5999292 , 0.26581912, 0.28468588, 0.25358821, 0.32756395],\n",
       "        [0.1441643 , 0.16561286, 0.96393053, 0.96022672, 0.18841466]]])"
      ]
     },
     "execution_count": 3,
     "metadata": {},
     "output_type": "execute_result"
    }
   ],
   "source": [
    "np.random.seed(5)\n",
    "array1 = np.random.rand(2,3,5)\n",
    "array1 "
   ]
  },
  {
   "cell_type": "code",
   "execution_count": 10,
   "metadata": {},
   "outputs": [
    {
     "data": {
      "text/plain": [
       "array([[[0.2, 0.9, 0.2, 0.9, 0.5],\n",
       "        [0.6, 0.8, 0.5, 0.3, 0.2],\n",
       "        [0.1, 0.7, 0.4, 0.2, 0.9]],\n",
       "\n",
       "       [[0.3, 0.4, 0.3, 0.6, 0.6],\n",
       "        [0.6, 0.3, 0.3, 0.3, 0.3],\n",
       "        [0.1, 0.2, 1. , 1. , 0.2]]])"
      ]
     },
     "execution_count": 10,
     "metadata": {},
     "output_type": "execute_result"
    }
   ],
   "source": [
    "array1=np.round(array1,1)\n",
    "array1"
   ]
  },
  {
   "cell_type": "markdown",
   "metadata": {},
   "source": [
    "EJERCICIO 2 Calculad la media del array y almacenarlos en una variable. Redondead a un decimal. "
   ]
  },
  {
   "cell_type": "code",
   "execution_count": 5,
   "metadata": {},
   "outputs": [
    {
     "data": {
      "text/plain": [
       "0.5"
      ]
     },
     "execution_count": 5,
     "metadata": {},
     "output_type": "execute_result"
    }
   ],
   "source": [
    "media=round(np.mean(array1),1)\n",
    "media"
   ]
  },
  {
   "cell_type": "markdown",
   "metadata": {},
   "source": [
    "EJERCICIO 3 Calculad el valor máximo del array y almacenarlos en una variable. Redondead a un decimal. "
   ]
  },
  {
   "cell_type": "code",
   "execution_count": 6,
   "metadata": {},
   "outputs": [
    {
     "data": {
      "text/plain": [
       "1.0"
      ]
     },
     "execution_count": 6,
     "metadata": {},
     "output_type": "execute_result"
    }
   ],
   "source": [
    "maximo=round(np.max(array1),1)\n",
    "maximo"
   ]
  },
  {
   "cell_type": "markdown",
   "metadata": {},
   "source": [
    "EJERCICIO 4\n",
    "Calculad el valor mínimo del array y almacenarlos en una variable. Redondead a un decimal. "
   ]
  },
  {
   "cell_type": "code",
   "execution_count": 7,
   "metadata": {},
   "outputs": [
    {
     "data": {
      "text/plain": [
       "0.1"
      ]
     },
     "execution_count": 7,
     "metadata": {},
     "output_type": "execute_result"
    }
   ],
   "source": [
    "minimo=round(np.min(array1),1)\n",
    "minimo"
   ]
  },
  {
   "cell_type": "markdown",
   "metadata": {},
   "source": [
    "EJERCICIO 5\n",
    "\n",
    "Cread un array vacío con la misma forma y dimensiones que el array creado anteriormente.\n",
    "Vamos a reemplazar los valores de la matriz vacía que nos acabamos de crear pero basándonos en los valores del primer array bajo las siguientes condiciones:\n",
    "Si el valor del array es igual que la media, se reemplaza por \"A\".\n",
    "Si el valor del array es mayor que la media, se reemplaza por \"B\".\n",
    "Si el valor del array es menor que la media, se reemplaza por \"C\".\n",
    "Si el valor es igual que el máximo, se reemplaza por \"D\".\n",
    "Si el valor es igual que el mínimo, se reemplaza por \"E\". \n"
   ]
  },
  {
   "cell_type": "code",
   "execution_count": 19,
   "metadata": {},
   "outputs": [
    {
     "data": {
      "text/plain": [
       "array([[['', '', '', '', ''],\n",
       "        ['', '', '', '', ''],\n",
       "        ['', '', '', '', '']],\n",
       "\n",
       "       [['', '', '', '', ''],\n",
       "        ['', '', '', '', ''],\n",
       "        ['', '', '', '', '']]], dtype='<U1')"
      ]
     },
     "execution_count": 19,
     "metadata": {},
     "output_type": "execute_result"
    }
   ],
   "source": [
    "array_v=np.empty_like(array1,str)\n",
    "array_v"
   ]
  },
  {
   "cell_type": "code",
   "execution_count": 22,
   "metadata": {},
   "outputs": [
    {
     "data": {
      "text/plain": [
       "(2, 3, 5)"
      ]
     },
     "execution_count": 22,
     "metadata": {},
     "output_type": "execute_result"
    }
   ],
   "source": [
    "array_v.shape"
   ]
  },
  {
   "cell_type": "code",
   "execution_count": 49,
   "metadata": {},
   "outputs": [
    {
     "name": "stdout",
     "output_type": "stream",
     "text": [
      "[[['C' 'B' 'C' 'B' 'A']\n",
      "  ['B' 'B' 'A' 'C' 'C']\n",
      "  ['E' 'B' 'C' 'C' 'B']]\n",
      "\n",
      " [['C' 'C' 'C' 'B' 'B']\n",
      "  ['B' 'C' 'C' 'C' 'C']\n",
      "  ['E' 'C' 'D' 'D' 'C']]]\n"
     ]
    }
   ],
   "source": [
    "for x in range(0,2):\n",
    "    for y in range(0,3):\n",
    "        for z in range(0,5):\n",
    "                        \n",
    "            if array1[x][y][z]== maximo:\n",
    "                array_v[x][y][z]=\"D\"\n",
    "                \n",
    "            elif array1[x][y][z]== minimo:\n",
    "                array_v[x][y][z]=\"E\"\n",
    "            elif array1[x][y][z] == media:\n",
    "                array_v[x][y][z]=\"A\"\n",
    "                \n",
    "            elif array1[x][y][z]> media:\n",
    "                array_v[x][y][z]=\"B\"\n",
    "                \n",
    "            elif array1[x][y][z]< media:\n",
    "                array_v[x][y][z]=\"C\"\n",
    "                \n",
    "            elif array1[x][y][z]== maximo:\n",
    "                array_v[x][y][z]=\"D\"\n",
    "                \n",
    "            elif array1[x][y][z]== minimo:\n",
    "                array_v[x][y][z]=\"E\"\n",
    "                \n",
    "print(array_v)"
   ]
  },
  {
   "cell_type": "markdown",
   "metadata": {},
   "source": [
    "6.Estupendo, tenemos un array con strings. Ahora realizaremos un ejercicio similar al anterior, pero en este caso nos crearemos un array vacío unidimensional de 30 elementos. Al final de este ejercicio acabaremos teniendo un array de tres dimensiones con la misma forma que el primero que nos creamos.\n",
    "En este caso:\n",
    " - Si el valor del array creado en el ejercicio anterior es \"A\" o \"B\" lo reemplazaremos por 1\n",
    " - Si el valor del array creado en el ejercicio anterior es \"C\" o \"D\" lo reemplazaremos por 2\n",
    " - Si el valor del array creado en el ejercicio anterior es \"E\" lo reemplazaremos por 3.\n",
    " - Una vez que hayas reemplazado todos los valores cambiad la forma del array para que sea de tres dimensiones, con 2 matrices, 3 filas y 5 columnas."
   ]
  },
  {
   "cell_type": "code",
   "execution_count": 50,
   "metadata": {},
   "outputs": [
    {
     "data": {
      "text/plain": [
       "array(['C', 'B', 'C', 'B', 'A', 'B', 'B', 'A', 'C', 'C', 'E', 'B', 'C',\n",
       "       'C', 'B', 'C', 'C', 'C', 'B', 'B', 'B', 'C', 'C', 'C', 'C', 'E',\n",
       "       'C', 'D', 'D', 'C'], dtype='<U1')"
      ]
     },
     "execution_count": 50,
     "metadata": {},
     "output_type": "execute_result"
    }
   ],
   "source": [
    "array_z = np.reshape(array_v,(30))\n",
    "array_z"
   ]
  },
  {
   "cell_type": "code",
   "execution_count": 57,
   "metadata": {},
   "outputs": [
    {
     "data": {
      "text/plain": [
       "array([4.9e-324, 1.5e-323, 1.5e-323, 9.9e-324, 4.9e-324, 4.9e-324,\n",
       "       1.5e-323, 0.0e+000, 0.0e+000, 4.9e-324, 9.9e-324, 9.9e-324,\n",
       "       1.5e-323, 1.5e-323, 1.5e-323, 0.0e+000, 4.9e-324, 1.5e-323,\n",
       "       1.5e-323, 1.5e-323, 9.9e-324, 1.5e-323, 4.9e-324, 4.9e-324,\n",
       "       4.9e-324, 4.9e-324, 1.5e-323, 0.0e+000, 9.9e-324, 9.9e-324])"
      ]
     },
     "execution_count": 57,
     "metadata": {},
     "output_type": "execute_result"
    }
   ],
   "source": [
    "array_vacia = np.empty(30)\n",
    "array_vacia"
   ]
  },
  {
   "cell_type": "code",
   "execution_count": 39,
   "metadata": {},
   "outputs": [
    {
     "data": {
      "text/plain": [
       "(30,)"
      ]
     },
     "execution_count": 39,
     "metadata": {},
     "output_type": "execute_result"
    }
   ],
   "source": [
    "array_z.shape"
   ]
  },
  {
   "cell_type": "code",
   "execution_count": 58,
   "metadata": {},
   "outputs": [
    {
     "data": {
      "text/plain": [
       "array([1., 1., 1., 1., 1., 1., 1., 1., 1., 1., 1., 1., 1., 1., 1., 1., 1.,\n",
       "       1., 1., 1., 1., 1., 1., 1., 1., 1., 1., 1., 1., 1.])"
      ]
     },
     "execution_count": 58,
     "metadata": {},
     "output_type": "execute_result"
    }
   ],
   "source": [
    "for z in range(0,30):\n",
    "    if array_z[z] == 'A' or 'B':\n",
    "        array_vacia[z] = 1\n",
    "    elif array_z[z] == 'C' or 'D':\n",
    "        array_vacia[z] = 2\n",
    "    elif array_z[z] == 'E':\n",
    "        array_vacia[z] = 3\n",
    "array_vacia\n"
   ]
  },
  {
   "cell_type": "code",
   "execution_count": null,
   "metadata": {},
   "outputs": [],
   "source": []
  }
 ],
 "metadata": {
  "kernelspec": {
   "display_name": "Python 3.8.10 64-bit",
   "language": "python",
   "name": "python3"
  },
  "language_info": {
   "codemirror_mode": {
    "name": "ipython",
    "version": 3
   },
   "file_extension": ".py",
   "mimetype": "text/x-python",
   "name": "python",
   "nbconvert_exporter": "python",
   "pygments_lexer": "ipython3",
   "version": "3.8.9"
  },
  "orig_nbformat": 4,
  "vscode": {
   "interpreter": {
    "hash": "31f2aee4e71d21fbe5cf8b01ff0e069b9275f58929596ceb00d14d90e3e16cd6"
   }
  }
 },
 "nbformat": 4,
 "nbformat_minor": 2
}
