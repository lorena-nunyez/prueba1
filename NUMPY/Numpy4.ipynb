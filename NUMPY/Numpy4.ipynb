{
 "cells": [
  {
   "cell_type": "markdown",
   "metadata": {},
   "source": [
    "EJERCICIO 1\n",
    "¿Cómo podemos crear dos arrays de dos dimensiones usando el método random_sample que tengan los mismos valores? "
   ]
  },
  {
   "cell_type": "code",
   "execution_count": 3,
   "metadata": {},
   "outputs": [],
   "source": [
    "import numpy as np"
   ]
  },
  {
   "cell_type": "code",
   "execution_count": 4,
   "metadata": {},
   "outputs": [],
   "source": [
    "#CON EL METODO SEED ESTAOS FIJANDO LAS VARIABLES PSEUDO_RANDOM DE FORMA QUE CADA VEZ QUE EJECUTEMOS EL METODO SEED Y LUEGO UN ARRAY NOS VA A DEVOLVER LOS MISMOS VALORES"
   ]
  },
  {
   "cell_type": "code",
   "execution_count": 5,
   "metadata": {},
   "outputs": [
    {
     "data": {
      "text/plain": [
       "array([[0.37454012, 0.95071431, 0.73199394, 0.59865848],\n",
       "       [0.15601864, 0.15599452, 0.05808361, 0.86617615]])"
      ]
     },
     "execution_count": 5,
     "metadata": {},
     "output_type": "execute_result"
    }
   ],
   "source": [
    "np.random.seed(42)\n",
    "array1=np.random.sample((2,4))\n",
    "array1"
   ]
  },
  {
   "cell_type": "code",
   "execution_count": 6,
   "metadata": {},
   "outputs": [
    {
     "data": {
      "text/plain": [
       "array([[0.37454012, 0.95071431, 0.73199394, 0.59865848],\n",
       "       [0.15601864, 0.15599452, 0.05808361, 0.86617615]])"
      ]
     },
     "execution_count": 6,
     "metadata": {},
     "output_type": "execute_result"
    }
   ],
   "source": [
    "np.random.seed(42)\n",
    "array2=np.random.sample((2,4))\n",
    "array2"
   ]
  },
  {
   "cell_type": "markdown",
   "metadata": {},
   "source": [
    "EJERCICIO 2\n",
    "Cread los siguientes arrays:\n",
    "\n",
    " - Un array de tres dimensiones con distribución uniforme de 2 x 3 x 5, con números entre 0 y 10, que no tengan decimales y extrae sus valores únicos almacenándolos en una variable.\n",
    "\n",
    " - Un array de tres dimensiones con distribución binomial de 2 x 3 x 5, con probabilidad de 0.3 y número de pruebas igual a 10. Igual que antes guarda los datos en una variable. "
   ]
  },
  {
   "cell_type": "code",
   "execution_count": 7,
   "metadata": {},
   "outputs": [
    {
     "data": {
      "text/plain": [
       "array([[[ 6.,  7.,  0., 10.,  8.],\n",
       "        [ 2.,  2.,  2.,  3.,  5.],\n",
       "        [ 4.,  3.,  6.,  1.,  3.]],\n",
       "\n",
       "       [[ 4.,  5.,  8.,  2.,  5.],\n",
       "        [ 6.,  0.,  6.,  2.,  1.],\n",
       "        [ 9., 10.,  8.,  3.,  1.]]])"
      ]
     },
     "execution_count": 7,
     "metadata": {},
     "output_type": "execute_result"
    }
   ],
   "source": [
    "#Un array de tres dimensiones con distribución uniforme de 2 x 3 x 5, con números entre 0 y 10, que no tengan decimales y extrae sus valores únicos almacenándolos en una variable.\n",
    "\n",
    "array3=np.round(np.random.uniform(0,10,size=(2,3,5)),0)\n",
    "array3"
   ]
  },
  {
   "cell_type": "code",
   "execution_count": 8,
   "metadata": {},
   "outputs": [
    {
     "data": {
      "text/plain": [
       "array([ 0.,  1.,  2.,  3.,  4.,  5.,  6.,  7.,  8.,  9., 10.])"
      ]
     },
     "execution_count": 8,
     "metadata": {},
     "output_type": "execute_result"
    }
   ],
   "source": [
    "unico=np.unique(array3)\n",
    "unico"
   ]
  },
  {
   "cell_type": "code",
   "execution_count": 9,
   "metadata": {},
   "outputs": [
    {
     "data": {
      "text/plain": [
       "array([[[4, 3, 1, 3, 1],\n",
       "        [5, 2, 4, 2, 3],\n",
       "        [3, 2, 6, 4, 5]],\n",
       "\n",
       "       [[5, 3, 5, 1, 2],\n",
       "        [1, 2, 3, 2, 4],\n",
       "        [2, 2, 3, 1, 4]]])"
      ]
     },
     "execution_count": 9,
     "metadata": {},
     "output_type": "execute_result"
    }
   ],
   "source": [
    "#Un array de tres dimensiones con distribución binomial de 2 x 3 x 5, con probabilidad de 0.3 y número de pruebas igual a 10. Igual que antes guarda los datos en una variable. \n",
    "array4=np.random.binomial(10,0.3,size=(2,3,5))\n",
    "array4"
   ]
  },
  {
   "cell_type": "code",
   "execution_count": 10,
   "metadata": {},
   "outputs": [
    {
     "data": {
      "text/plain": [
       "array([1, 2, 3, 4, 5, 6])"
      ]
     },
     "execution_count": 10,
     "metadata": {},
     "output_type": "execute_result"
    }
   ],
   "source": [
    "unico2=np.unique(array4)\n",
    "unico2"
   ]
  },
  {
   "cell_type": "markdown",
   "metadata": {},
   "source": [
    "EJERCICIO 3\n",
    "En esta lección hemos aprendido algunos métodos de teórias de conjuntos. Usando los arrays de elementos únicos obtenidos en el ejercicio anterior realizad las siguientes operaciones:\n",
    "\n",
    " - Elementos comunes entre los dos arrays\n",
    "\n",
    " - Unión de los dos arrays\n",
    "\n",
    " - ¿Qué elementos están en el array derivado de la distribución uniforme y no en los únicos de la distribución binomial? Extrae los valores númericos\n",
    "\n",
    "⚠️  - Explicar cada uno de los outputs que os salgan. Que significa cada una de estas operaciones que hemos ido extrayendo? "
   ]
  },
  {
   "cell_type": "code",
   "execution_count": 11,
   "metadata": {},
   "outputs": [
    {
     "data": {
      "text/plain": [
       "array([1., 2., 3., 4., 5., 6.])"
      ]
     },
     "execution_count": 11,
     "metadata": {},
     "output_type": "execute_result"
    }
   ],
   "source": [
    "#Elementos comunes entre los dos arrays\n",
    "\n",
    "comun=np.intersect1d(unico, unico2)\n",
    "comun\n",
    "\n",
    "##NOS DEVUELVE TODOS LOS ELEMENTOS COMUNES EN LAS DOS ARRAYS"
   ]
  },
  {
   "cell_type": "code",
   "execution_count": 12,
   "metadata": {},
   "outputs": [
    {
     "data": {
      "text/plain": [
       "array([ 0.,  1.,  2.,  3.,  4.,  5.,  6.,  7.,  8.,  9., 10.])"
      ]
     },
     "execution_count": 12,
     "metadata": {},
     "output_type": "execute_result"
    }
   ],
   "source": [
    "# Unión de los dos arrays\n",
    "\n",
    "union=np.union1d(unico,unico2)\n",
    "union\n",
    "\n",
    "##NOS DEVUELVE DE FORMA UNICA LOS VALORES CONTENIDOS EN AMBOS ARRAYS"
   ]
  },
  {
   "cell_type": "code",
   "execution_count": 13,
   "metadata": {},
   "outputs": [
    {
     "data": {
      "text/plain": [
       "array([0.05808361, 0.15599452, 0.15601864, 0.37454012, 0.59865848,\n",
       "       0.73199394, 0.86617615, 0.95071431])"
      ]
     },
     "execution_count": 13,
     "metadata": {},
     "output_type": "execute_result"
    }
   ],
   "source": [
    "#¿Qué elementos están en el array derivado de la distribución uniforme y no en los únicos de la distribución binomial? Extrae los valores númericos\n",
    "\n",
    "diferencia=np.setdiff1d(array1,unico2)\n",
    "diferencia\n",
    "\n",
    "##NOS DEUELVE AQUELLOS ELEMENTOS QUE ESTAN ENE EL ARRAY1 PERO NO EN UNICO2"
   ]
  },
  {
   "cell_type": "markdown",
   "metadata": {},
   "source": [
    "EJERCICIO 4\n",
    "\n",
    "Cread dos arrays usando el método random.randint de Numpy con 80 elementos cada uno con números del 1-100, con los siguientes nombres array1 y array2.\n",
    "\n",
    " - Extraed los valores únicos de cada uno de los arrays y los guardáis en variables en las que se les llame array1 y array2.\n",
    "\n",
    " - Identificad los elementos presentes en el array1 pero no en el array2 y asiganarlo a una variable que se llame array3.\n",
    "\n",
    " - Identificad los elementos presentes en el array2 pero no en el array1 y asiganarlo a una variable que se llame array4.\n",
    "\n",
    " - Identificad los elementos presentes en ambos arrays y asiganarlos a una variable que se llame array5.\n",
    "\n",
    " - ¿Cuál es la relación que existe entre todos estos arrays? 💡 Pista 💡 Tendréis que usar las longitudes de cada uno de los arrays creados. "
   ]
  },
  {
   "cell_type": "code",
   "execution_count": 14,
   "metadata": {},
   "outputs": [],
   "source": [
    "#Cread dos arrays usando el método random.randint de Numpy con 80 elementos cada uno con números del 1-100, con los siguientes nombres array1 y array2.\n",
    "\n",
    "np.random.seed(2)\n",
    "\n",
    "arr1 = np.random.randint(1,100,(80))\n",
    "\n",
    "arr2 = np.random.randint(1,100,(80))"
   ]
  },
  {
   "cell_type": "code",
   "execution_count": 15,
   "metadata": {},
   "outputs": [
    {
     "data": {
      "text/plain": [
       "array([41, 16, 73, 23, 44, 83, 76,  8, 35, 50, 96, 76, 86, 48, 64, 32, 91,\n",
       "       21, 38, 40, 68,  5, 43, 52, 39, 34, 59, 68, 70, 89, 69, 47, 71, 96,\n",
       "       84, 32, 67, 81, 53, 77, 51,  5, 91, 64, 80, 50, 40, 47,  9, 51, 16,\n",
       "        9, 18, 23, 74, 58, 91, 63, 84, 97, 44, 33, 27,  9, 77, 11, 41, 35,\n",
       "       61, 10, 71, 87, 71, 20, 57, 83,  2, 69, 41, 82])"
      ]
     },
     "execution_count": 15,
     "metadata": {},
     "output_type": "execute_result"
    }
   ],
   "source": [
    "arr1"
   ]
  },
  {
   "cell_type": "code",
   "execution_count": 16,
   "metadata": {},
   "outputs": [
    {
     "data": {
      "text/plain": [
       "array([62, 71, 98, 19, 85, 91, 88, 23, 44, 53, 75, 73, 91, 92, 97, 17, 56,\n",
       "       22, 44, 94, 81, 41, 71, 75, 38, 60, 18, 16, 31, 78, 27, 40, 64, 21,\n",
       "       23, 60, 50, 28,  1, 63, 41, 59, 93, 37, 64, 76, 51, 74,  8, 50, 83,\n",
       "        2, 80, 92, 97, 50, 41, 47, 60, 74, 79, 95, 96, 33, 17, 22, 44, 59,\n",
       "       99, 22, 50, 64, 84, 93, 52, 98,  9, 87, 89, 12])"
      ]
     },
     "execution_count": 16,
     "metadata": {},
     "output_type": "execute_result"
    }
   ],
   "source": [
    "arr2"
   ]
  },
  {
   "cell_type": "code",
   "execution_count": 17,
   "metadata": {},
   "outputs": [
    {
     "data": {
      "text/plain": [
       "(array([ 2,  5,  8,  9, 10, 11, 16, 18, 20, 21, 23, 27, 32, 33, 34, 35, 38,\n",
       "        39, 40, 41, 43, 44, 47, 48, 50, 51, 52, 53, 57, 58, 59, 61, 63, 64,\n",
       "        67, 68, 69, 70, 71, 73, 74, 76, 77, 80, 81, 82, 83, 84, 86, 87, 89,\n",
       "        91, 96, 97]),\n",
       " array([ 1,  2,  8,  9, 12, 16, 17, 18, 19, 21, 22, 23, 27, 28, 31, 33, 37,\n",
       "        38, 40, 41, 44, 47, 50, 51, 52, 53, 56, 59, 60, 62, 63, 64, 71, 73,\n",
       "        74, 75, 76, 78, 79, 80, 81, 83, 84, 85, 87, 88, 89, 91, 92, 93, 94,\n",
       "        95, 96, 97, 98, 99]))"
      ]
     },
     "execution_count": 17,
     "metadata": {},
     "output_type": "execute_result"
    }
   ],
   "source": [
    "#Extraed los valores únicos de cada uno de los arrays y los guardáis en variables en las que se les llame array1 y array2.\n",
    "\n",
    "arr1,arr2 = np.unique(arr1), np.unique(arr2)\n",
    "\n",
    "arr1,arr2"
   ]
  },
  {
   "cell_type": "code",
   "execution_count": 18,
   "metadata": {},
   "outputs": [
    {
     "data": {
      "text/plain": [
       "array([ 5, 10, 11, 20, 32, 34, 35, 39, 43, 48, 57, 58, 61, 67, 68, 69, 70,\n",
       "       77, 82, 86])"
      ]
     },
     "execution_count": 18,
     "metadata": {},
     "output_type": "execute_result"
    }
   ],
   "source": [
    "#Identificad los elementos presentes en el array1 pero no en el array2 y asiganarlo a una variable que se llame array3.\n",
    "\n",
    "arr3 = np.setdiff1d(arr1,arr2)\n",
    "arr3"
   ]
  },
  {
   "cell_type": "code",
   "execution_count": 19,
   "metadata": {},
   "outputs": [
    {
     "data": {
      "text/plain": [
       "array([ 1, 12, 17, 19, 22, 28, 31, 37, 56, 60, 62, 75, 78, 79, 85, 88, 92,\n",
       "       93, 94, 95, 98, 99])"
      ]
     },
     "execution_count": 19,
     "metadata": {},
     "output_type": "execute_result"
    }
   ],
   "source": [
    "#Identificad los elementos presentes en el array2 pero no en el array1 y asiganarlo a una variable que se llame array4\n",
    "\n",
    "arr4 = np.setdiff1d(arr2,arr1)\n",
    "arr4"
   ]
  },
  {
   "cell_type": "code",
   "execution_count": 20,
   "metadata": {},
   "outputs": [
    {
     "data": {
      "text/plain": [
       "array([ 1,  5, 10, 11, 12, 17, 19, 20, 22, 28, 31, 32, 34, 35, 37, 39, 43,\n",
       "       48, 56, 57, 58, 60, 61, 62, 67, 68, 69, 70, 75, 77, 78, 79, 82, 85,\n",
       "       86, 88, 92, 93, 94, 95, 98, 99])"
      ]
     },
     "execution_count": 20,
     "metadata": {},
     "output_type": "execute_result"
    }
   ],
   "source": [
    "#Identificad los elementos presentes en ambos arrays y asiganarlos a una variable que se llame array5.\n",
    "\n",
    "arr5 = np.setxor1d(arr1,arr2)\n",
    "arr5"
   ]
  },
  {
   "cell_type": "code",
   "execution_count": 21,
   "metadata": {},
   "outputs": [],
   "source": [
    "#¿Cuál es la relación que existe entre todos estos arrays? 💡 Pista 💡 Tendréis que usar las longitudes de cada uno de los arrays creados.\n",
    "\n",
    "## COMO ARR3 REPRESENTA LOS VALORES UNICOS EN ARR1 QUE NO ESTAN EN ARR2 Y ARR4 REPRESENTA LO MISMO PERO DE ARR2 EN ARR1 CUANDO CALCULAMOS ARR5 SU LONGITUD ES IGUAL \n",
    "# A LA SUMA DE LA LONGITUD DE ARR3 Y ARR4, NOS ESTA DANDO LOS VALORES UNICOS PRESENTES EN LOS DOS ARRAYS."
   ]
  },
  {
   "cell_type": "code",
   "execution_count": 22,
   "metadata": {},
   "outputs": [
    {
     "data": {
      "text/plain": [
       "54"
      ]
     },
     "execution_count": 22,
     "metadata": {},
     "output_type": "execute_result"
    }
   ],
   "source": [
    "arr1.size"
   ]
  },
  {
   "cell_type": "code",
   "execution_count": 23,
   "metadata": {},
   "outputs": [
    {
     "data": {
      "text/plain": [
       "56"
      ]
     },
     "execution_count": 23,
     "metadata": {},
     "output_type": "execute_result"
    }
   ],
   "source": [
    "arr2.size"
   ]
  },
  {
   "cell_type": "code",
   "execution_count": 24,
   "metadata": {},
   "outputs": [
    {
     "data": {
      "text/plain": [
       "20"
      ]
     },
     "execution_count": 24,
     "metadata": {},
     "output_type": "execute_result"
    }
   ],
   "source": [
    "arr3.size"
   ]
  },
  {
   "cell_type": "code",
   "execution_count": 25,
   "metadata": {},
   "outputs": [
    {
     "data": {
      "text/plain": [
       "22"
      ]
     },
     "execution_count": 25,
     "metadata": {},
     "output_type": "execute_result"
    }
   ],
   "source": [
    "arr4.size"
   ]
  },
  {
   "cell_type": "code",
   "execution_count": 26,
   "metadata": {},
   "outputs": [
    {
     "data": {
      "text/plain": [
       "42"
      ]
     },
     "execution_count": 26,
     "metadata": {},
     "output_type": "execute_result"
    }
   ],
   "source": [
    "arr5.size"
   ]
  }
 ],
 "metadata": {
  "kernelspec": {
   "display_name": "Python 3.9.7 ('base')",
   "language": "python",
   "name": "python3"
  },
  "language_info": {
   "codemirror_mode": {
    "name": "ipython",
    "version": 3
   },
   "file_extension": ".py",
   "mimetype": "text/x-python",
   "name": "python",
   "nbconvert_exporter": "python",
   "pygments_lexer": "ipython3",
   "version": "3.9.7"
  },
  "orig_nbformat": 4,
  "vscode": {
   "interpreter": {
    "hash": "ef996a58dd4038b19127a5b342ff558a720418179ddf7c29df6339888c2ae8ac"
   }
  }
 },
 "nbformat": 4,
 "nbformat_minor": 2
}
