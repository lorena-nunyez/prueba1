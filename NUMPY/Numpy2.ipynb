{
 "cells": [
  {
   "cell_type": "markdown",
   "metadata": {},
   "source": [
    "\n",
    "EJERCICIO 1: Cread un array de dos dimensiones de 5 filas y 3 columnas. Sobre el array creado anteriormente, extraed:\n",
    " - El valor de la primera fila y la segunda columna.\n",
    " - Los valores de la segunda fila y las dos primeras columnas.\n",
    " - Extraed las filas pares (incluyendo la 0) y todas las columnas.\n",
    " - Extraed los valores que sean mayores que 0.5.\n",
    " - Extraed los valores menores que 0.2 o mayores que 0.5"
   ]
  },
  {
   "cell_type": "code",
   "execution_count": 1,
   "metadata": {},
   "outputs": [],
   "source": [
    "import numpy as np"
   ]
  },
  {
   "cell_type": "code",
   "execution_count": 4,
   "metadata": {},
   "outputs": [
    {
     "data": {
      "text/plain": [
       "array([[35, 14, 47],\n",
       "       [38, 16,  9],\n",
       "       [ 8, 36, 39],\n",
       "       [27, 48, 30],\n",
       "       [16,  7, 12]])"
      ]
     },
     "execution_count": 4,
     "metadata": {},
     "output_type": "execute_result"
    }
   ],
   "source": [
    "np.random.seed(5)\n",
    "array1 = np.random.randint(0,50,(5,3))\n",
    "array1"
   ]
  },
  {
   "cell_type": "code",
   "execution_count": 5,
   "metadata": {},
   "outputs": [
    {
     "data": {
      "text/plain": [
       "14"
      ]
     },
     "execution_count": 5,
     "metadata": {},
     "output_type": "execute_result"
    }
   ],
   "source": [
    "# El valor de la primera fila y la segunda columna\n",
    "\n",
    "array1[0,1]"
   ]
  },
  {
   "cell_type": "code",
   "execution_count": 6,
   "metadata": {},
   "outputs": [
    {
     "data": {
      "text/plain": [
       "array([38, 16])"
      ]
     },
     "execution_count": 6,
     "metadata": {},
     "output_type": "execute_result"
    }
   ],
   "source": [
    "# Los valores de la segunda fila y las dos primeras columnas.\n",
    "\n",
    "array1[1,:2]"
   ]
  },
  {
   "cell_type": "code",
   "execution_count": 7,
   "metadata": {},
   "outputs": [
    {
     "data": {
      "text/plain": [
       "array([[35, 14, 47],\n",
       "       [ 8, 36, 39],\n",
       "       [16,  7, 12]])"
      ]
     },
     "execution_count": 7,
     "metadata": {},
     "output_type": "execute_result"
    }
   ],
   "source": [
    "# Extraed las filas pares (incluyendo la 0) y todas las columnas.\n",
    "\n",
    "array1[::2,:]"
   ]
  },
  {
   "cell_type": "code",
   "execution_count": 10,
   "metadata": {},
   "outputs": [
    {
     "data": {
      "text/plain": [
       "array([35, 14, 47, 38, 16,  9,  8, 36, 39, 27, 48, 30, 16,  7, 12])"
      ]
     },
     "execution_count": 10,
     "metadata": {},
     "output_type": "execute_result"
    }
   ],
   "source": [
    "# Extraed los valores que sean mayores que 0.5.\n",
    "\n",
    "array1[(array1>0.5)]"
   ]
  },
  {
   "cell_type": "code",
   "execution_count": 11,
   "metadata": {},
   "outputs": [
    {
     "data": {
      "text/plain": [
       "array([35, 14, 47, 38, 16,  9,  8, 36, 39, 27, 48, 30, 16,  7, 12])"
      ]
     },
     "execution_count": 11,
     "metadata": {},
     "output_type": "execute_result"
    }
   ],
   "source": [
    "# Extraed los valores menores que 0.2 o mayores que 0.5\n",
    "\n",
    "array1[(array1>0.5)|(array1<0.2)]"
   ]
  },
  {
   "cell_type": "markdown",
   "metadata": {},
   "source": [
    "EJERCICIO 2: Cread dos array de tres dimensiones:\n",
    " - El primero de 2 matrices, 5 filas y 3 columnas.\n",
    " - El segundo de 3 matrices, 2 filas y 5 columnas\n",
    " - Haced un análisis exploratorio de los array creados. Recordad que en el ejercicio de ayer nos creamos una función para esto.\n",
    " - Sumad los dos arrays. ¿Podéis? ¿Por qué?\n",
    " - Para cambiar la forma de un array y poder hacer operaciones entre arrays que tienen distintas formas hemos aprendido dos métodos:\n",
    "    - .reshape()\n",
    "    - .transpose()\n",
    " - Utiliza estas dos funciones para cambiar la forma de los array y hacer operaciones entre ellos."
   ]
  },
  {
   "cell_type": "code",
   "execution_count": 13,
   "metadata": {},
   "outputs": [
    {
     "data": {
      "text/plain": [
       "array([[[10,  9, 35],\n",
       "        [20, 42, 45],\n",
       "        [15, 42, 16],\n",
       "        [25,  1, 11],\n",
       "        [13, 26, 47]],\n",
       "\n",
       "       [[33, 44, 46],\n",
       "        [ 4, 33,  8],\n",
       "        [ 2, 12, 20],\n",
       "        [27, 31,  2],\n",
       "        [ 5, 26, 15]]])"
      ]
     },
     "execution_count": 13,
     "metadata": {},
     "output_type": "execute_result"
    }
   ],
   "source": [
    "np.random.seed(6)\n",
    "array2 = np.random.randint(0,50,(2,5,3))\n",
    "array2"
   ]
  },
  {
   "cell_type": "code",
   "execution_count": 15,
   "metadata": {},
   "outputs": [
    {
     "data": {
      "text/plain": [
       "array([[[47,  4, 25,  3, 19],\n",
       "        [23, 39, 28, 14, 23]],\n",
       "\n",
       "       [[ 8, 25, 46, 42, 26],\n",
       "        [ 8, 39, 38,  4, 48]],\n",
       "\n",
       "       [[ 7, 44,  0, 11,  6],\n",
       "        [19, 44,  5, 24, 48]]])"
      ]
     },
     "execution_count": 15,
     "metadata": {},
     "output_type": "execute_result"
    }
   ],
   "source": [
    "np.random.seed(7)\n",
    "array3 = np.random.randint(0,50,(3,2,5))\n",
    "array3"
   ]
  },
  {
   "cell_type": "code",
   "execution_count": 16,
   "metadata": {},
   "outputs": [],
   "source": [
    "# Haced un análisis exploratorio de los array creados. Recordad que en el ejercicio de ayer nos creamos una función para esto.\n",
    "\n",
    "def propiedades_array(array):\n",
    "    lista=[]\n",
    "    lista.append(array.shape)\n",
    "    lista.append(array.size)\n",
    "    lista.append(array.ndim)\n",
    "    lista.append(array.dtype)\n",
    "    return lista"
   ]
  },
  {
   "cell_type": "code",
   "execution_count": 17,
   "metadata": {},
   "outputs": [
    {
     "data": {
      "text/plain": [
       "[(2, 5, 3), 30, 3, dtype('int64')]"
      ]
     },
     "execution_count": 17,
     "metadata": {},
     "output_type": "execute_result"
    }
   ],
   "source": [
    "propiedades_array(array2)"
   ]
  },
  {
   "cell_type": "code",
   "execution_count": 18,
   "metadata": {},
   "outputs": [
    {
     "data": {
      "text/plain": [
       "[(3, 2, 5), 30, 3, dtype('int64')]"
      ]
     },
     "execution_count": 18,
     "metadata": {},
     "output_type": "execute_result"
    }
   ],
   "source": [
    "propiedades_array(array3)"
   ]
  },
  {
   "cell_type": "code",
   "execution_count": 19,
   "metadata": {},
   "outputs": [
    {
     "ename": "ValueError",
     "evalue": "operands could not be broadcast together with shapes (2,5,3) (3,2,5) ",
     "output_type": "error",
     "traceback": [
      "\u001b[0;31m---------------------------------------------------------------------------\u001b[0m",
      "\u001b[0;31mValueError\u001b[0m                                Traceback (most recent call last)",
      "\u001b[0;32m/var/folders/fk/9dj5qplx5dv2l_dlsz8sf1pw0000gn/T/ipykernel_5369/1496407597.py\u001b[0m in \u001b[0;36m<module>\u001b[0;34m\u001b[0m\n\u001b[1;32m      2\u001b[0m \u001b[0;34m\u001b[0m\u001b[0m\n\u001b[1;32m      3\u001b[0m \u001b[0;31m## No se puede porque tenemos dos matrices con formas distintas\u001b[0m\u001b[0;34m\u001b[0m\u001b[0;34m\u001b[0m\u001b[0m\n\u001b[0;32m----> 4\u001b[0;31m \u001b[0marray2\u001b[0m \u001b[0;34m+\u001b[0m \u001b[0marray3\u001b[0m\u001b[0;34m\u001b[0m\u001b[0;34m\u001b[0m\u001b[0m\n\u001b[0m",
      "\u001b[0;31mValueError\u001b[0m: operands could not be broadcast together with shapes (2,5,3) (3,2,5) "
     ]
    }
   ],
   "source": [
    "# Sumad los dos arrays. ¿Podéis? ¿Por qué?\n",
    "\n",
    "## No se puede porque tenemos dos matrices con formas distintas\n",
    "array2 + array3"
   ]
  },
  {
   "cell_type": "code",
   "execution_count": 20,
   "metadata": {},
   "outputs": [],
   "source": [
    "# Para cambiar la forma de un array y poder hacer operaciones entre arrays que tienen distintas formas hemos aprendido dos métodos:\n",
    "    # .reshape()\n",
    "    #.transpose()\n",
    "#Utiliza estas dos funciones para cambiar la forma de los array y hacer operaciones entre ellos.\n",
    "\n",
    "r3 = array3.reshape(2,5,3)"
   ]
  },
  {
   "cell_type": "code",
   "execution_count": 21,
   "metadata": {},
   "outputs": [
    {
     "data": {
      "text/plain": [
       "array([[[57, 13, 60],\n",
       "        [23, 61, 68],\n",
       "        [54, 70, 30],\n",
       "        [48,  9, 36],\n",
       "        [59, 68, 73]],\n",
       "\n",
       "       [[41, 83, 84],\n",
       "        [ 8, 81, 15],\n",
       "        [46, 12, 31],\n",
       "        [33, 50, 46],\n",
       "        [10, 50, 63]]])"
      ]
     },
     "execution_count": 21,
     "metadata": {},
     "output_type": "execute_result"
    }
   ],
   "source": [
    "array2 + r3"
   ]
  },
  {
   "cell_type": "code",
   "execution_count": 22,
   "metadata": {},
   "outputs": [],
   "source": [
    "t3 = array3.transpose(1,2,0)"
   ]
  },
  {
   "cell_type": "code",
   "execution_count": 23,
   "metadata": {},
   "outputs": [
    {
     "data": {
      "text/plain": [
       "array([[[57, 17, 42],\n",
       "        [24, 67, 89],\n",
       "        [40, 88, 16],\n",
       "        [28, 43, 22],\n",
       "        [32, 52, 53]],\n",
       "\n",
       "       [[56, 52, 65],\n",
       "        [43, 72, 52],\n",
       "        [30, 50, 25],\n",
       "        [41, 35, 26],\n",
       "        [28, 74, 63]]])"
      ]
     },
     "execution_count": 23,
     "metadata": {},
     "output_type": "execute_result"
    }
   ],
   "source": [
    "array2 + t3"
   ]
  },
  {
   "cell_type": "code",
   "execution_count": null,
   "metadata": {},
   "outputs": [],
   "source": []
  }
 ],
 "metadata": {
  "kernelspec": {
   "display_name": "Python 3.9.7 ('base')",
   "language": "python",
   "name": "python3"
  },
  "language_info": {
   "codemirror_mode": {
    "name": "ipython",
    "version": 3
   },
   "file_extension": ".py",
   "mimetype": "text/x-python",
   "name": "python",
   "nbconvert_exporter": "python",
   "pygments_lexer": "ipython3",
   "version": "3.9.7"
  },
  "orig_nbformat": 4,
  "vscode": {
   "interpreter": {
    "hash": "40d3a090f54c6569ab1632332b64b2c03c39dcf918b08424e98f38b5ae0af88f"
   }
  }
 },
 "nbformat": 4,
 "nbformat_minor": 2
}
